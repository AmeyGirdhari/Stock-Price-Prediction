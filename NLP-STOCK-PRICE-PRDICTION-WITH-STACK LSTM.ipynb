{
 "cells": [
  {
   "cell_type": "code",
   "execution_count": 1,
   "metadata": {},
   "outputs": [],
   "source": [
    "import pandas as pd\n",
    "import numpy as np\n",
    "import matplotlib.pyplot as plt"
   ]
  },
  {
   "cell_type": "code",
   "execution_count": 2,
   "metadata": {},
   "outputs": [],
   "source": [
    "df=pd.read_csv(\"C:/Users/vrunda/NLP/STOCK-PRICE-PREDICTION-SLACK_LSTM/data/ASIANPAINT.csv\")"
   ]
  },
  {
   "cell_type": "code",
   "execution_count": 3,
   "metadata": {},
   "outputs": [
    {
     "data": {
      "text/html": [
       "<div>\n",
       "<style scoped>\n",
       "    .dataframe tbody tr th:only-of-type {\n",
       "        vertical-align: middle;\n",
       "    }\n",
       "\n",
       "    .dataframe tbody tr th {\n",
       "        vertical-align: top;\n",
       "    }\n",
       "\n",
       "    .dataframe thead th {\n",
       "        text-align: right;\n",
       "    }\n",
       "</style>\n",
       "<table border=\"1\" class=\"dataframe\">\n",
       "  <thead>\n",
       "    <tr style=\"text-align: right;\">\n",
       "      <th></th>\n",
       "      <th>Date</th>\n",
       "      <th>Symbol</th>\n",
       "      <th>Series</th>\n",
       "      <th>Prev Close</th>\n",
       "      <th>Open</th>\n",
       "      <th>High</th>\n",
       "      <th>Low</th>\n",
       "      <th>Last</th>\n",
       "      <th>Close</th>\n",
       "      <th>VWAP</th>\n",
       "      <th>Volume</th>\n",
       "      <th>Turnover</th>\n",
       "      <th>Trades</th>\n",
       "      <th>Deliverable Volume</th>\n",
       "      <th>%Deliverble</th>\n",
       "    </tr>\n",
       "  </thead>\n",
       "  <tbody>\n",
       "    <tr>\n",
       "      <th>0</th>\n",
       "      <td>2000-01-03</td>\n",
       "      <td>ASIANPAINT</td>\n",
       "      <td>EQ</td>\n",
       "      <td>361.20</td>\n",
       "      <td>370.00</td>\n",
       "      <td>390.00</td>\n",
       "      <td>370.00</td>\n",
       "      <td>385.00</td>\n",
       "      <td>381.65</td>\n",
       "      <td>380.54</td>\n",
       "      <td>3318</td>\n",
       "      <td>1.262617e+11</td>\n",
       "      <td>NaN</td>\n",
       "      <td>NaN</td>\n",
       "      <td>NaN</td>\n",
       "    </tr>\n",
       "    <tr>\n",
       "      <th>1</th>\n",
       "      <td>2000-01-04</td>\n",
       "      <td>ASIANPAINT</td>\n",
       "      <td>EQ</td>\n",
       "      <td>381.65</td>\n",
       "      <td>380.00</td>\n",
       "      <td>392.00</td>\n",
       "      <td>375.00</td>\n",
       "      <td>390.00</td>\n",
       "      <td>385.55</td>\n",
       "      <td>383.50</td>\n",
       "      <td>4818</td>\n",
       "      <td>1.847699e+11</td>\n",
       "      <td>NaN</td>\n",
       "      <td>NaN</td>\n",
       "      <td>NaN</td>\n",
       "    </tr>\n",
       "    <tr>\n",
       "      <th>2</th>\n",
       "      <td>2000-01-05</td>\n",
       "      <td>ASIANPAINT</td>\n",
       "      <td>EQ</td>\n",
       "      <td>385.55</td>\n",
       "      <td>371.50</td>\n",
       "      <td>390.00</td>\n",
       "      <td>371.50</td>\n",
       "      <td>383.00</td>\n",
       "      <td>383.00</td>\n",
       "      <td>379.81</td>\n",
       "      <td>2628</td>\n",
       "      <td>9.981384e+10</td>\n",
       "      <td>NaN</td>\n",
       "      <td>NaN</td>\n",
       "      <td>NaN</td>\n",
       "    </tr>\n",
       "    <tr>\n",
       "      <th>3</th>\n",
       "      <td>2000-01-06</td>\n",
       "      <td>ASIANPAINT</td>\n",
       "      <td>EQ</td>\n",
       "      <td>383.00</td>\n",
       "      <td>384.90</td>\n",
       "      <td>384.90</td>\n",
       "      <td>374.50</td>\n",
       "      <td>375.10</td>\n",
       "      <td>377.50</td>\n",
       "      <td>379.88</td>\n",
       "      <td>3354</td>\n",
       "      <td>1.274114e+11</td>\n",
       "      <td>NaN</td>\n",
       "      <td>NaN</td>\n",
       "      <td>NaN</td>\n",
       "    </tr>\n",
       "    <tr>\n",
       "      <th>4</th>\n",
       "      <td>2000-01-07</td>\n",
       "      <td>ASIANPAINT</td>\n",
       "      <td>EQ</td>\n",
       "      <td>377.50</td>\n",
       "      <td>376.00</td>\n",
       "      <td>390.00</td>\n",
       "      <td>370.00</td>\n",
       "      <td>389.00</td>\n",
       "      <td>385.70</td>\n",
       "      <td>383.38</td>\n",
       "      <td>9589</td>\n",
       "      <td>3.676275e+11</td>\n",
       "      <td>NaN</td>\n",
       "      <td>NaN</td>\n",
       "      <td>NaN</td>\n",
       "    </tr>\n",
       "    <tr>\n",
       "      <th>...</th>\n",
       "      <td>...</td>\n",
       "      <td>...</td>\n",
       "      <td>...</td>\n",
       "      <td>...</td>\n",
       "      <td>...</td>\n",
       "      <td>...</td>\n",
       "      <td>...</td>\n",
       "      <td>...</td>\n",
       "      <td>...</td>\n",
       "      <td>...</td>\n",
       "      <td>...</td>\n",
       "      <td>...</td>\n",
       "      <td>...</td>\n",
       "      <td>...</td>\n",
       "      <td>...</td>\n",
       "    </tr>\n",
       "    <tr>\n",
       "      <th>5199</th>\n",
       "      <td>2020-11-23</td>\n",
       "      <td>ASIANPAINT</td>\n",
       "      <td>EQ</td>\n",
       "      <td>2166.55</td>\n",
       "      <td>2160.55</td>\n",
       "      <td>2196.95</td>\n",
       "      <td>2138.80</td>\n",
       "      <td>2188.00</td>\n",
       "      <td>2186.25</td>\n",
       "      <td>2158.20</td>\n",
       "      <td>4002609</td>\n",
       "      <td>8.638445e+14</td>\n",
       "      <td>121561.0</td>\n",
       "      <td>2465120.0</td>\n",
       "      <td>0.6159</td>\n",
       "    </tr>\n",
       "    <tr>\n",
       "      <th>5200</th>\n",
       "      <td>2020-11-24</td>\n",
       "      <td>ASIANPAINT</td>\n",
       "      <td>EQ</td>\n",
       "      <td>2186.25</td>\n",
       "      <td>2192.90</td>\n",
       "      <td>2231.00</td>\n",
       "      <td>2191.00</td>\n",
       "      <td>2205.00</td>\n",
       "      <td>2207.90</td>\n",
       "      <td>2215.45</td>\n",
       "      <td>2954306</td>\n",
       "      <td>6.545112e+14</td>\n",
       "      <td>119163.0</td>\n",
       "      <td>1436478.0</td>\n",
       "      <td>0.4862</td>\n",
       "    </tr>\n",
       "    <tr>\n",
       "      <th>5201</th>\n",
       "      <td>2020-11-25</td>\n",
       "      <td>ASIANPAINT</td>\n",
       "      <td>EQ</td>\n",
       "      <td>2207.90</td>\n",
       "      <td>2197.25</td>\n",
       "      <td>2208.70</td>\n",
       "      <td>2150.00</td>\n",
       "      <td>2156.00</td>\n",
       "      <td>2154.30</td>\n",
       "      <td>2172.26</td>\n",
       "      <td>1682365</td>\n",
       "      <td>3.654528e+14</td>\n",
       "      <td>79887.0</td>\n",
       "      <td>613963.0</td>\n",
       "      <td>0.3649</td>\n",
       "    </tr>\n",
       "    <tr>\n",
       "      <th>5202</th>\n",
       "      <td>2020-11-26</td>\n",
       "      <td>ASIANPAINT</td>\n",
       "      <td>EQ</td>\n",
       "      <td>2154.30</td>\n",
       "      <td>2160.00</td>\n",
       "      <td>2177.45</td>\n",
       "      <td>2117.15</td>\n",
       "      <td>2160.00</td>\n",
       "      <td>2155.30</td>\n",
       "      <td>2139.91</td>\n",
       "      <td>2247478</td>\n",
       "      <td>4.809392e+14</td>\n",
       "      <td>85597.0</td>\n",
       "      <td>858868.0</td>\n",
       "      <td>0.3821</td>\n",
       "    </tr>\n",
       "    <tr>\n",
       "      <th>5203</th>\n",
       "      <td>2020-11-27</td>\n",
       "      <td>ASIANPAINT</td>\n",
       "      <td>EQ</td>\n",
       "      <td>2155.30</td>\n",
       "      <td>2170.00</td>\n",
       "      <td>2244.60</td>\n",
       "      <td>2165.00</td>\n",
       "      <td>2198.55</td>\n",
       "      <td>2215.30</td>\n",
       "      <td>2208.61</td>\n",
       "      <td>10036402</td>\n",
       "      <td>2.216650e+15</td>\n",
       "      <td>174090.0</td>\n",
       "      <td>7938427.0</td>\n",
       "      <td>0.7910</td>\n",
       "    </tr>\n",
       "  </tbody>\n",
       "</table>\n",
       "<p>5204 rows × 15 columns</p>\n",
       "</div>"
      ],
      "text/plain": [
       "            Date      Symbol Series  Prev Close     Open     High      Low  \\\n",
       "0     2000-01-03  ASIANPAINT     EQ      361.20   370.00   390.00   370.00   \n",
       "1     2000-01-04  ASIANPAINT     EQ      381.65   380.00   392.00   375.00   \n",
       "2     2000-01-05  ASIANPAINT     EQ      385.55   371.50   390.00   371.50   \n",
       "3     2000-01-06  ASIANPAINT     EQ      383.00   384.90   384.90   374.50   \n",
       "4     2000-01-07  ASIANPAINT     EQ      377.50   376.00   390.00   370.00   \n",
       "...          ...         ...    ...         ...      ...      ...      ...   \n",
       "5199  2020-11-23  ASIANPAINT     EQ     2166.55  2160.55  2196.95  2138.80   \n",
       "5200  2020-11-24  ASIANPAINT     EQ     2186.25  2192.90  2231.00  2191.00   \n",
       "5201  2020-11-25  ASIANPAINT     EQ     2207.90  2197.25  2208.70  2150.00   \n",
       "5202  2020-11-26  ASIANPAINT     EQ     2154.30  2160.00  2177.45  2117.15   \n",
       "5203  2020-11-27  ASIANPAINT     EQ     2155.30  2170.00  2244.60  2165.00   \n",
       "\n",
       "         Last    Close     VWAP    Volume      Turnover    Trades  \\\n",
       "0      385.00   381.65   380.54      3318  1.262617e+11       NaN   \n",
       "1      390.00   385.55   383.50      4818  1.847699e+11       NaN   \n",
       "2      383.00   383.00   379.81      2628  9.981384e+10       NaN   \n",
       "3      375.10   377.50   379.88      3354  1.274114e+11       NaN   \n",
       "4      389.00   385.70   383.38      9589  3.676275e+11       NaN   \n",
       "...       ...      ...      ...       ...           ...       ...   \n",
       "5199  2188.00  2186.25  2158.20   4002609  8.638445e+14  121561.0   \n",
       "5200  2205.00  2207.90  2215.45   2954306  6.545112e+14  119163.0   \n",
       "5201  2156.00  2154.30  2172.26   1682365  3.654528e+14   79887.0   \n",
       "5202  2160.00  2155.30  2139.91   2247478  4.809392e+14   85597.0   \n",
       "5203  2198.55  2215.30  2208.61  10036402  2.216650e+15  174090.0   \n",
       "\n",
       "      Deliverable Volume  %Deliverble  \n",
       "0                    NaN          NaN  \n",
       "1                    NaN          NaN  \n",
       "2                    NaN          NaN  \n",
       "3                    NaN          NaN  \n",
       "4                    NaN          NaN  \n",
       "...                  ...          ...  \n",
       "5199           2465120.0       0.6159  \n",
       "5200           1436478.0       0.4862  \n",
       "5201            613963.0       0.3649  \n",
       "5202            858868.0       0.3821  \n",
       "5203           7938427.0       0.7910  \n",
       "\n",
       "[5204 rows x 15 columns]"
      ]
     },
     "execution_count": 3,
     "metadata": {},
     "output_type": "execute_result"
    }
   ],
   "source": [
    "df"
   ]
  },
  {
   "cell_type": "code",
   "execution_count": 4,
   "metadata": {},
   "outputs": [],
   "source": [
    "df1=df['Close']"
   ]
  },
  {
   "cell_type": "code",
   "execution_count": 5,
   "metadata": {},
   "outputs": [
    {
     "data": {
      "text/plain": [
       "0        381.65\n",
       "1        385.55\n",
       "2        383.00\n",
       "3        377.50\n",
       "4        385.70\n",
       "         ...   \n",
       "5199    2186.25\n",
       "5200    2207.90\n",
       "5201    2154.30\n",
       "5202    2155.30\n",
       "5203    2215.30\n",
       "Name: Close, Length: 5204, dtype: float64"
      ]
     },
     "execution_count": 5,
     "metadata": {},
     "output_type": "execute_result"
    }
   ],
   "source": [
    "df1"
   ]
  },
  {
   "cell_type": "code",
   "execution_count": 6,
   "metadata": {},
   "outputs": [
    {
     "data": {
      "text/plain": [
       "<AxesSubplot:>"
      ]
     },
     "execution_count": 6,
     "metadata": {},
     "output_type": "execute_result"
    },
    {
     "data": {
      "image/png": "[encoded data removed]",
      "text/plain": [
       "<Figure size 432x288 with 1 Axes>"
      ]
     },
     "metadata": {
      "needs_background": "light"
     },
     "output_type": "display_data"
    }
   ],
   "source": [
    "df1.plot()"
   ]
  },
  {
   "cell_type": "code",
   "execution_count": 7,
   "metadata": {},
   "outputs": [],
   "source": [
    "## Lstm is sensitive to scale of the data, so we apply min max scaler"
   ]
  },
  {
   "cell_type": "code",
   "execution_count": 8,
   "metadata": {},
   "outputs": [],
   "source": [
    "from sklearn.preprocessing import MinMaxScaler\n",
    "scaler=MinMaxScaler(feature_range=(0,1))\n",
    "df1=scaler.fit_transform(np.array(df1).reshape(-1,1))"
   ]
  },
  {
   "cell_type": "code",
   "execution_count": 9,
   "metadata": {},
   "outputs": [
    {
     "data": {
      "text/plain": [
       "array([[0.03416394],\n",
       "       [0.03494358],\n",
       "       [0.03443382],\n",
       "       ...,\n",
       "       [0.38852739],\n",
       "       [0.3887273 ],\n",
       "       [0.40072166]])"
      ]
     },
     "execution_count": 9,
     "metadata": {},
     "output_type": "execute_result"
    }
   ],
   "source": [
    "df1"
   ]
  },
  {
   "cell_type": "code",
   "execution_count": 10,
   "metadata": {},
   "outputs": [],
   "source": [
    "# spliting the dataset into train and test\n",
    "\n",
    "training_size=int(len(df1)*0.65)\n",
    "test_size=len(df1)-training_size\n",
    "train_data,test_data=df1[0:training_size,:],df1[training_size:len(df1),:1]"
   ]
  },
  {
   "cell_type": "code",
   "execution_count": 11,
   "metadata": {},
   "outputs": [],
   "source": [
    "# Convert an array of values into dataset matrix\n",
    "\n",
    "def create_dataset(dataset,time_step=1):\n",
    "    dataX,dataY=[],[]\n",
    "    for i in range(len(dataset)-time_step-1):\n",
    "        a=dataset[i:(i+time_step),0]\n",
    "        dataX.append(a)\n",
    "        dataY.append(dataset[i+time_step,0])\n",
    "    return np.array(dataX),np.array(dataY)"
   ]
  },
  {
   "cell_type": "code",
   "execution_count": 12,
   "metadata": {},
   "outputs": [],
   "source": [
    "time_step=100\n",
    "X_train,y_train=create_dataset(train_data,time_step)\n",
    "X_test,y_test=create_dataset(test_data,time_step)"
   ]
  },
  {
   "cell_type": "code",
   "execution_count": 13,
   "metadata": {},
   "outputs": [
    {
     "data": {
      "text/plain": [
       "array([[0.03416394, 0.03494358, 0.03443382, ..., 0.04222016, 0.04264995,\n",
       "        0.04348956],\n",
       "       [0.03494358, 0.03443382, 0.03333433, ..., 0.04264995, 0.04348956,\n",
       "        0.04195028],\n",
       "       [0.03443382, 0.03333433, 0.03497356, ..., 0.04348956, 0.04195028,\n",
       "        0.04305976],\n",
       "       ...,\n",
       "       [0.86266455, 0.86592302, 0.85826661, ..., 0.89119114, 0.89202075,\n",
       "        0.90993233],\n",
       "       [0.86592302, 0.85826661, 0.86922147, ..., 0.89202075, 0.90993233,\n",
       "        0.91398043],\n",
       "       [0.85826661, 0.86922147, 0.86854179, ..., 0.90993233, 0.91398043,\n",
       "        0.93231181]])"
      ]
     },
     "execution_count": 13,
     "metadata": {},
     "output_type": "execute_result"
    }
   ],
   "source": [
    "X_train"
   ]
  },
  {
   "cell_type": "code",
   "execution_count": 14,
   "metadata": {},
   "outputs": [
    {
     "name": "stdout",
     "output_type": "stream",
     "text": [
      "(3281, 100)\n",
      "(3281,)\n"
     ]
    },
    {
     "data": {
      "text/plain": [
       "(None, None)"
      ]
     },
     "execution_count": 14,
     "metadata": {},
     "output_type": "execute_result"
    }
   ],
   "source": [
    "print(X_train.shape),print(y_train.shape)"
   ]
  },
  {
   "cell_type": "code",
   "execution_count": 15,
   "metadata": {},
   "outputs": [],
   "source": [
    "# reshape the input to be [samples,time steps, features] which is required for LSTM\n",
    "X_train=X_train.reshape(X_train.shape[0],X_train.shape[1],1)\n",
    "X_test=X_test.reshape(X_test.shape[0],X_test.shape[1],1)"
   ]
  },
  {
   "cell_type": "code",
   "execution_count": 16,
   "metadata": {},
   "outputs": [],
   "source": [
    "# create a standard lstm model\n",
    "from tensorflow.keras.models import Sequential\n",
    "from tensorflow.keras.layers import Dense\n",
    "from tensorflow.keras.layers import LSTM"
   ]
  },
  {
   "cell_type": "code",
   "execution_count": 18,
   "metadata": {},
   "outputs": [],
   "source": [
    "model=Sequential()\n",
    "model.add(LSTM(50,return_sequences=True,input_shape=(100,1)))\n",
    "model.add(LSTM(50,return_sequences=True))\n",
    "model.add(LSTM(50))\n",
    "model.add(Dense(1))\n",
    "model.compile(loss='mean_squared_error',optimizer='adam')"
   ]
  },
  {
   "cell_type": "code",
   "execution_count": 19,
   "metadata": {},
   "outputs": [
    {
     "name": "stdout",
     "output_type": "stream",
     "text": [
      "Model: \"sequential_1\"\n",
      "_________________________________________________________________\n",
      "Layer (type)                 Output Shape              Param #   \n",
      "=================================================================\n",
      "lstm_3 (LSTM)                (None, 100, 50)           10400     \n",
      "_________________________________________________________________\n",
      "lstm_4 (LSTM)                (None, 100, 50)           20200     \n",
      "_________________________________________________________________\n",
      "lstm_5 (LSTM)                (None, 50)                20200     \n",
      "_________________________________________________________________\n",
      "dense_1 (Dense)              (None, 1)                 51        \n",
      "=================================================================\n",
      "Total params: 50,851\n",
      "Trainable params: 50,851\n",
      "Non-trainable params: 0\n",
      "_________________________________________________________________\n"
     ]
    }
   ],
   "source": [
    "model.summary()"
   ]
  },
  {
   "cell_type": "code",
   "execution_count": 20,
   "metadata": {},
   "outputs": [
    {
     "name": "stdout",
     "output_type": "stream",
     "text": [
      "Epoch 1/100\n",
      "52/52 [==============================] - 10s 200ms/step - loss: 0.0088 - val_loss: 1.8315e-04\n",
      "Epoch 2/100\n",
      "52/52 [==============================] - 8s 146ms/step - loss: 4.0429e-04 - val_loss: 1.3615e-04\n",
      "Epoch 3/100\n",
      "52/52 [==============================] - 9s 177ms/step - loss: 2.7594e-04 - val_loss: 1.2529e-04\n",
      "Epoch 4/100\n",
      "52/52 [==============================] - 9s 164ms/step - loss: 2.7430e-04 - val_loss: 1.7456e-04\n",
      "Epoch 5/100\n",
      "52/52 [==============================] - 8s 161ms/step - loss: 2.7986e-04 - val_loss: 1.2148e-04\n",
      "Epoch 6/100\n",
      "52/52 [==============================] - 9s 164ms/step - loss: 2.5990e-04 - val_loss: 1.5004e-04\n",
      "Epoch 7/100\n",
      "52/52 [==============================] - 9s 164ms/step - loss: 2.5269e-04 - val_loss: 1.2044e-04\n",
      "Epoch 8/100\n",
      "52/52 [==============================] - 8s 162ms/step - loss: 2.3000e-04 - val_loss: 1.3238e-04\n",
      "Epoch 9/100\n",
      "52/52 [==============================] - 8s 159ms/step - loss: 2.2731e-04 - val_loss: 1.7910e-04\n",
      "Epoch 10/100\n",
      "52/52 [==============================] - 8s 162ms/step - loss: 2.8518e-04 - val_loss: 1.1356e-04\n",
      "Epoch 11/100\n",
      "52/52 [==============================] - 9s 171ms/step - loss: 2.5402e-04 - val_loss: 1.4269e-04\n",
      "Epoch 12/100\n",
      "52/52 [==============================] - 9s 165ms/step - loss: 2.2945e-04 - val_loss: 1.0935e-04\n",
      "Epoch 13/100\n",
      "52/52 [==============================] - 7s 143ms/step - loss: 2.4735e-04 - val_loss: 1.0848e-04\n",
      "Epoch 14/100\n",
      "52/52 [==============================] - 8s 148ms/step - loss: 2.0680e-04 - val_loss: 1.3680e-04\n",
      "Epoch 15/100\n",
      "52/52 [==============================] - 8s 147ms/step - loss: 2.0875e-04 - val_loss: 1.0648e-04\n",
      "Epoch 16/100\n",
      "52/52 [==============================] - 8s 147ms/step - loss: 2.1449e-04 - val_loss: 1.0880e-04\n",
      "Epoch 17/100\n",
      "52/52 [==============================] - 8s 147ms/step - loss: 2.1191e-04 - val_loss: 1.3819e-04\n",
      "Epoch 18/100\n",
      "52/52 [==============================] - 8s 149ms/step - loss: 2.0448e-04 - val_loss: 1.2953e-04\n",
      "Epoch 19/100\n",
      "52/52 [==============================] - 8s 146ms/step - loss: 2.0538e-04 - val_loss: 1.9837e-04\n",
      "Epoch 20/100\n",
      "52/52 [==============================] - 8s 148ms/step - loss: 1.9485e-04 - val_loss: 9.3679e-05\n",
      "Epoch 21/100\n",
      "52/52 [==============================] - 8s 147ms/step - loss: 1.9779e-04 - val_loss: 1.6552e-04\n",
      "Epoch 22/100\n",
      "52/52 [==============================] - 8s 150ms/step - loss: 2.1819e-04 - val_loss: 9.2323e-05\n",
      "Epoch 23/100\n",
      "52/52 [==============================] - 8s 145ms/step - loss: 1.9259e-04 - val_loss: 9.2029e-05\n",
      "Epoch 24/100\n",
      "52/52 [==============================] - 8s 149ms/step - loss: 1.8379e-04 - val_loss: 8.4592e-05\n",
      "Epoch 25/100\n",
      "52/52 [==============================] - 8s 145ms/step - loss: 1.9761e-04 - val_loss: 8.5852e-05\n",
      "Epoch 26/100\n",
      "52/52 [==============================] - 8s 151ms/step - loss: 1.6905e-04 - val_loss: 8.2406e-05\n",
      "Epoch 27/100\n",
      "52/52 [==============================] - 8s 148ms/step - loss: 1.5297e-04 - val_loss: 1.1022e-04\n",
      "Epoch 28/100\n",
      "52/52 [==============================] - 8s 148ms/step - loss: 1.4989e-04 - val_loss: 1.0949e-04\n",
      "Epoch 29/100\n",
      "52/52 [==============================] - 8s 151ms/step - loss: 1.7872e-04 - val_loss: 7.6949e-05\n",
      "Epoch 30/100\n",
      "52/52 [==============================] - 8s 152ms/step - loss: 1.6078e-04 - val_loss: 7.6005e-05\n",
      "Epoch 31/100\n",
      "52/52 [==============================] - 8s 148ms/step - loss: 1.6410e-04 - val_loss: 1.1003e-04\n",
      "Epoch 32/100\n",
      "52/52 [==============================] - 8s 146ms/step - loss: 1.4359e-04 - val_loss: 7.6479e-05\n",
      "Epoch 33/100\n",
      "52/52 [==============================] - 8s 145ms/step - loss: 1.3239e-04 - val_loss: 6.6835e-05\n",
      "Epoch 34/100\n",
      "52/52 [==============================] - 8s 147ms/step - loss: 1.3351e-04 - val_loss: 7.6364e-05\n",
      "Epoch 35/100\n",
      "52/52 [==============================] - 8s 153ms/step - loss: 1.2659e-04 - val_loss: 1.1304e-04\n",
      "Epoch 36/100\n",
      "52/52 [==============================] - 8s 146ms/step - loss: 1.3819e-04 - val_loss: 6.1743e-05\n",
      "Epoch 37/100\n",
      "52/52 [==============================] - 8s 152ms/step - loss: 1.7582e-04 - val_loss: 1.0385e-04\n",
      "Epoch 38/100\n",
      "52/52 [==============================] - 8s 148ms/step - loss: 1.3047e-04 - val_loss: 6.5308e-05\n",
      "Epoch 39/100\n",
      "52/52 [==============================] - 8s 151ms/step - loss: 1.2753e-04 - val_loss: 5.8080e-05\n",
      "Epoch 40/100\n",
      "52/52 [==============================] - 8s 149ms/step - loss: 1.1939e-04 - val_loss: 2.0085e-04\n",
      "Epoch 41/100\n",
      "52/52 [==============================] - 8s 147ms/step - loss: 1.8890e-04 - val_loss: 7.9806e-05\n",
      "Epoch 42/100\n",
      "52/52 [==============================] - 8s 149ms/step - loss: 1.2252e-04 - val_loss: 9.6434e-05\n",
      "Epoch 43/100\n",
      "52/52 [==============================] - 8s 149ms/step - loss: 1.2493e-04 - val_loss: 5.8880e-05\n",
      "Epoch 44/100\n",
      "52/52 [==============================] - 8s 158ms/step - loss: 1.1225e-04 - val_loss: 5.2550e-05\n",
      "Epoch 45/100\n",
      "52/52 [==============================] - 8s 154ms/step - loss: 9.9042e-05 - val_loss: 5.2754e-05\n",
      "Epoch 46/100\n",
      "52/52 [==============================] - 8s 148ms/step - loss: 1.1522e-04 - val_loss: 5.1271e-05\n",
      "Epoch 47/100\n",
      "52/52 [==============================] - 8s 149ms/step - loss: 9.6211e-05 - val_loss: 5.0108e-05\n",
      "Epoch 48/100\n",
      "52/52 [==============================] - 8s 160ms/step - loss: 9.8406e-05 - val_loss: 5.7666e-05\n",
      "Epoch 49/100\n",
      "52/52 [==============================] - 10s 189ms/step - loss: 1.1695e-04 - val_loss: 4.9227e-05\n",
      "Epoch 50/100\n",
      "52/52 [==============================] - 8s 146ms/step - loss: 8.5530e-05 - val_loss: 4.5910e-05\n",
      "Epoch 51/100\n",
      "52/52 [==============================] - 7s 144ms/step - loss: 1.0502e-04 - val_loss: 4.4608e-05\n",
      "Epoch 52/100\n",
      "52/52 [==============================] - 8s 147ms/step - loss: 8.7945e-05 - val_loss: 5.3010e-05\n",
      "Epoch 53/100\n",
      "52/52 [==============================] - 8s 148ms/step - loss: 1.0416e-04 - val_loss: 5.0733e-05\n",
      "Epoch 54/100\n",
      "52/52 [==============================] - 8s 144ms/step - loss: 8.6368e-05 - val_loss: 7.4629e-05\n",
      "Epoch 55/100\n",
      "52/52 [==============================] - 8s 154ms/step - loss: 1.0543e-04 - val_loss: 1.1122e-04\n",
      "Epoch 56/100\n",
      "52/52 [==============================] - 8s 155ms/step - loss: 7.9426e-05 - val_loss: 3.8576e-05\n",
      "Epoch 57/100\n",
      "52/52 [==============================] - 10s 201ms/step - loss: 6.8220e-05 - val_loss: 3.8590e-05\n",
      "Epoch 58/100\n",
      "52/52 [==============================] - 9s 176ms/step - loss: 7.4989e-05 - val_loss: 3.8105e-05\n",
      "Epoch 59/100\n",
      "52/52 [==============================] - 10s 184ms/step - loss: 7.4530e-05 - val_loss: 5.4662e-05\n",
      "Epoch 60/100\n",
      "52/52 [==============================] - 9s 178ms/step - loss: 8.4405e-05 - val_loss: 3.7061e-05\n",
      "Epoch 61/100\n",
      "52/52 [==============================] - 9s 176ms/step - loss: 6.5178e-05 - val_loss: 3.4360e-05\n",
      "Epoch 62/100\n",
      "52/52 [==============================] - 9s 176ms/step - loss: 7.1340e-05 - val_loss: 3.7307e-05\n",
      "Epoch 63/100\n",
      "52/52 [==============================] - 9s 178ms/step - loss: 7.0219e-05 - val_loss: 3.6685e-05\n",
      "Epoch 64/100\n",
      "52/52 [==============================] - 9s 175ms/step - loss: 6.1710e-05 - val_loss: 4.6024e-05\n",
      "Epoch 65/100\n",
      "52/52 [==============================] - 9s 176ms/step - loss: 6.6905e-05 - val_loss: 3.4774e-05\n",
      "Epoch 66/100\n",
      "52/52 [==============================] - 10s 183ms/step - loss: 6.8524e-05 - val_loss: 4.2524e-05\n",
      "Epoch 67/100\n",
      "52/52 [==============================] - 9s 178ms/step - loss: 6.0883e-05 - val_loss: 3.5453e-05\n",
      "Epoch 68/100\n",
      "52/52 [==============================] - 9s 176ms/step - loss: 5.6449e-05 - val_loss: 3.6278e-05\n",
      "Epoch 69/100\n",
      "52/52 [==============================] - 9s 176ms/step - loss: 5.3848e-05 - val_loss: 3.8589e-05\n",
      "Epoch 70/100\n",
      "52/52 [==============================] - 9s 180ms/step - loss: 5.8454e-05 - val_loss: 3.0266e-05\n",
      "Epoch 71/100\n",
      "52/52 [==============================] - 10s 187ms/step - loss: 6.6720e-05 - val_loss: 5.8955e-05\n",
      "Epoch 72/100\n",
      "52/52 [==============================] - 9s 182ms/step - loss: 9.4146e-05 - val_loss: 4.7771e-05\n",
      "Epoch 73/100\n",
      "52/52 [==============================] - 9s 178ms/step - loss: 5.6278e-05 - val_loss: 2.9554e-05\n",
      "Epoch 74/100\n",
      "52/52 [==============================] - 10s 184ms/step - loss: 8.2246e-05 - val_loss: 3.9619e-05\n",
      "Epoch 75/100\n"
     ]
    },
    {
     "name": "stdout",
     "output_type": "stream",
     "text": [
      "52/52 [==============================] - 10s 197ms/step - loss: 5.4662e-05 - val_loss: 2.7261e-05\n",
      "Epoch 76/100\n",
      "52/52 [==============================] - 11s 210ms/step - loss: 5.6451e-05 - val_loss: 2.8501e-05\n",
      "Epoch 77/100\n",
      "52/52 [==============================] - 10s 185ms/step - loss: 1.2502e-04 - val_loss: 5.2336e-05\n",
      "Epoch 78/100\n",
      "52/52 [==============================] - 10s 201ms/step - loss: 5.1088e-05 - val_loss: 2.5927e-05\n",
      "Epoch 79/100\n",
      "52/52 [==============================] - 9s 171ms/step - loss: 4.4684e-05 - val_loss: 4.3701e-05\n",
      "Epoch 80/100\n",
      "52/52 [==============================] - 9s 176ms/step - loss: 5.2614e-05 - val_loss: 2.4457e-05\n",
      "Epoch 81/100\n",
      "52/52 [==============================] - 10s 184ms/step - loss: 6.2895e-05 - val_loss: 2.4711e-05\n",
      "Epoch 82/100\n",
      "52/52 [==============================] - 9s 182ms/step - loss: 4.3662e-05 - val_loss: 3.0851e-05\n",
      "Epoch 83/100\n",
      "52/52 [==============================] - 7s 143ms/step - loss: 4.8506e-05 - val_loss: 3.3891e-05\n",
      "Epoch 84/100\n",
      "52/52 [==============================] - 8s 146ms/step - loss: 6.3926e-05 - val_loss: 2.5485e-05\n",
      "Epoch 85/100\n",
      "52/52 [==============================] - 7s 138ms/step - loss: 4.6172e-05 - val_loss: 2.3260e-05\n",
      "Epoch 86/100\n",
      "52/52 [==============================] - 8s 162ms/step - loss: 5.6451e-05 - val_loss: 8.3858e-05\n",
      "Epoch 87/100\n",
      "52/52 [==============================] - 8s 146ms/step - loss: 7.1155e-05 - val_loss: 2.6912e-05\n",
      "Epoch 88/100\n",
      "52/52 [==============================] - 8s 154ms/step - loss: 4.4760e-05 - val_loss: 3.2608e-05\n",
      "Epoch 89/100\n",
      "52/52 [==============================] - 8s 147ms/step - loss: 4.4594e-05 - val_loss: 7.5672e-05\n",
      "Epoch 90/100\n",
      "52/52 [==============================] - 8s 151ms/step - loss: 6.5909e-05 - val_loss: 2.8284e-05\n",
      "Epoch 91/100\n",
      "52/52 [==============================] - 8s 151ms/step - loss: 4.8773e-05 - val_loss: 2.3806e-05\n",
      "Epoch 92/100\n",
      "52/52 [==============================] - 8s 152ms/step - loss: 5.4058e-05 - val_loss: 4.7459e-05\n",
      "Epoch 93/100\n",
      "52/52 [==============================] - 8s 152ms/step - loss: 4.2530e-05 - val_loss: 2.1841e-05\n",
      "Epoch 94/100\n",
      "52/52 [==============================] - 8s 152ms/step - loss: 4.6819e-05 - val_loss: 2.8431e-05\n",
      "Epoch 95/100\n",
      "52/52 [==============================] - 8s 151ms/step - loss: 4.8888e-05 - val_loss: 2.3354e-05\n",
      "Epoch 96/100\n",
      "52/52 [==============================] - 8s 151ms/step - loss: 4.3635e-05 - val_loss: 6.5357e-05\n",
      "Epoch 97/100\n",
      "52/52 [==============================] - 8s 157ms/step - loss: 4.4954e-05 - val_loss: 3.4131e-05\n",
      "Epoch 98/100\n",
      "52/52 [==============================] - 9s 170ms/step - loss: 4.8216e-05 - val_loss: 3.5311e-05\n",
      "Epoch 99/100\n",
      "52/52 [==============================] - 9s 164ms/step - loss: 4.5192e-05 - val_loss: 2.6957e-05\n",
      "Epoch 100/100\n",
      "52/52 [==============================] - 9s 167ms/step - loss: 3.9277e-05 - val_loss: 2.6437e-05\n"
     ]
    },
    {
     "data": {
      "text/plain": [
       "<tensorflow.python.keras.callbacks.History at 0x215f6c20188>"
      ]
     },
     "execution_count": 20,
     "metadata": {},
     "output_type": "execute_result"
    }
   ],
   "source": [
    "model.fit(X_train,y_train,validation_data=(X_test,y_test),epochs=100,batch_size=64,verbose=1)"
   ]
  },
  {
   "cell_type": "code",
   "execution_count": 21,
   "metadata": {},
   "outputs": [],
   "source": [
    "# lets do  the prediction and check performance matrix\n",
    "train_predict=model.predict(X_train)\n",
    "test_predict=model.predict(X_test)"
   ]
  },
  {
   "cell_type": "code",
   "execution_count": 22,
   "metadata": {},
   "outputs": [],
   "source": [
    "# transform to original form\n",
    "train_predict=scaler.inverse_transform(train_predict)\n",
    "test_predict=scaler.inverse_transform(test_predict)"
   ]
  },
  {
   "cell_type": "code",
   "execution_count": 23,
   "metadata": {},
   "outputs": [
    {
     "data": {
      "text/plain": [
       "1830.2094549412718"
      ]
     },
     "execution_count": 23,
     "metadata": {},
     "output_type": "execute_result"
    }
   ],
   "source": [
    "# caluclate rmse\n",
    "import math\n",
    "from sklearn.metrics import mean_squared_error\n",
    "math.sqrt(mean_squared_error(y_train,train_predict))"
   ]
  },
  {
   "cell_type": "code",
   "execution_count": 24,
   "metadata": {},
   "outputs": [
    {
     "data": {
      "text/plain": [
       "1229.7249200360925"
      ]
     },
     "execution_count": 24,
     "metadata": {},
     "output_type": "execute_result"
    }
   ],
   "source": [
    "math.sqrt(mean_squared_error(y_test,test_predict))"
   ]
  },
  {
   "cell_type": "code",
   "execution_count": 26,
   "metadata": {},
   "outputs": [
    {
     "data": {
      "image/png": "[encoded data removed]",
      "text/plain": [
       "<Figure size 432x288 with 1 Axes>"
      ]
     },
     "metadata": {
      "needs_background": "light"
     },
     "output_type": "display_data"
    }
   ],
   "source": [
    "# plotting\n",
    "\n",
    "look_back=100\n",
    "trainPredictPlot=np.empty_like(df1)\n",
    "trainPredictPlot[:,:]=np.nan\n",
    "trainPredictPlot[look_back:len(train_predict)+look_back,:]=train_predict\n",
    "# shift test predictions for plotting\n",
    "testPredictPlot=np.empty_like(df1)\n",
    "testPredictPlot[:,:]=np.nan\n",
    "testPredictPlot[len(train_predict)+(look_back*2)+1:len(df1)-1,:]=test_predict\n",
    "# ploting baseline\n",
    "plt.plot(scaler.inverse_transform(df1))\n",
    "plt.plot(trainPredictPlot)\n",
    "plt.plot(testPredictPlot)\n",
    "plt.show()\n",
    "                 "
   ]
  },
  {
   "cell_type": "markdown",
   "metadata": {},
   "source": [
    "# PRediction for next 30 days by considering the previous 100 days"
   ]
  },
  {
   "cell_type": "code",
   "execution_count": 28,
   "metadata": {},
   "outputs": [
    {
     "data": {
      "text/plain": [
       "1822"
      ]
     },
     "execution_count": 28,
     "metadata": {},
     "output_type": "execute_result"
    }
   ],
   "source": [
    "len(test_data)"
   ]
  },
  {
   "cell_type": "code",
   "execution_count": 29,
   "metadata": {},
   "outputs": [
    {
     "data": {
      "text/plain": [
       "(1, 100)"
      ]
     },
     "execution_count": 29,
     "metadata": {},
     "output_type": "execute_result"
    }
   ],
   "source": [
    "x_input=test_data[1722:].reshape(1,-1)\n",
    "x_input.shape"
   ]
  },
  {
   "cell_type": "code",
   "execution_count": 30,
   "metadata": {},
   "outputs": [],
   "source": [
    "temp_input=list(x_input)\n",
    "temp_input=temp_input[0].tolist()"
   ]
  },
  {
   "cell_type": "code",
   "execution_count": 31,
   "metadata": {},
   "outputs": [
    {
     "name": "stdout",
     "output_type": "stream",
     "text": [
      "[0.4005735]\n",
      "101\n",
      "1 day input [0.29883955 0.29539117 0.29204274 0.29635072 0.30128839 0.30802523\n",
      " 0.3025578  0.29686048 0.30326746 0.30011894 0.31333273 0.30963447\n",
      " 0.3057363  0.306376   0.30080862 0.29880956 0.30049877 0.30096854\n",
      " 0.30321749 0.31895009 0.31417234 0.31561166 0.31715094 0.31821044\n",
      " 0.31821044 0.32503723 0.33251372 0.33483263 0.33267364 0.34928584\n",
      " 0.35011545 0.35780183 0.35196458 0.35418353 0.34930583 0.33751137\n",
      " 0.35354383 0.34647716 0.35328396 0.34895599 0.35410357 0.34975561\n",
      " 0.35349386 0.36898658 0.36486851 0.36391896 0.36119024 0.36010075\n",
      " 0.35927114 0.36335922 0.35219447 0.34518776 0.34699691 0.34135956\n",
      " 0.34280888 0.346807   0.34967565 0.35496317 0.36576809 0.36327926\n",
      " 0.37567343 0.37867202 0.37540356 0.36779714 0.37324458 0.37060582\n",
      " 0.37194519 0.37576339 0.36991614 0.3716953  0.38137076 0.38053115\n",
      " 0.3776525  0.38172059 0.37376433 0.39722331 0.3895769  0.40275071\n",
      " 0.39996202 0.39223565 0.38859736 0.39155597 0.4053195  0.39947225\n",
      " 0.40270073 0.39761312 0.39400482 0.39202575 0.39365498 0.39458455\n",
      " 0.39519426 0.3968135  0.3900067  0.39097624 0.39491439 0.39924236\n",
      " 0.38852739 0.3887273  0.40072166 0.40057349]\n",
      "1 day output [[0.40468404]]\n",
      "2 day input [0.29539117 0.29204274 0.29635072 0.30128839 0.30802523 0.3025578\n",
      " 0.29686048 0.30326746 0.30011894 0.31333273 0.30963447 0.3057363\n",
      " 0.306376   0.30080862 0.29880956 0.30049877 0.30096854 0.30321749\n",
      " 0.31895009 0.31417234 0.31561166 0.31715094 0.31821044 0.31821044\n",
      " 0.32503723 0.33251372 0.33483263 0.33267364 0.34928584 0.35011545\n",
      " 0.35780183 0.35196458 0.35418353 0.34930583 0.33751137 0.35354383\n",
      " 0.34647716 0.35328396 0.34895599 0.35410357 0.34975561 0.35349386\n",
      " 0.36898658 0.36486851 0.36391896 0.36119024 0.36010075 0.35927114\n",
      " 0.36335922 0.35219447 0.34518776 0.34699691 0.34135956 0.34280888\n",
      " 0.346807   0.34967565 0.35496317 0.36576809 0.36327926 0.37567343\n",
      " 0.37867202 0.37540356 0.36779714 0.37324458 0.37060582 0.37194519\n",
      " 0.37576339 0.36991614 0.3716953  0.38137076 0.38053115 0.3776525\n",
      " 0.38172059 0.37376433 0.39722331 0.3895769  0.40275071 0.39996202\n",
      " 0.39223565 0.38859736 0.39155597 0.4053195  0.39947225 0.40270073\n",
      " 0.39761312 0.39400482 0.39202575 0.39365498 0.39458455 0.39519426\n",
      " 0.3968135  0.3900067  0.39097624 0.39491439 0.39924236 0.38852739\n",
      " 0.3887273  0.40072166 0.40057349 0.40468404]\n",
      "2 day output [[0.4079692]]\n",
      "3 day input [0.29204274 0.29635072 0.30128839 0.30802523 0.3025578  0.29686048\n",
      " 0.30326746 0.30011894 0.31333273 0.30963447 0.3057363  0.306376\n",
      " 0.30080862 0.29880956 0.30049877 0.30096854 0.30321749 0.31895009\n",
      " 0.31417234 0.31561166 0.31715094 0.31821044 0.31821044 0.32503723\n",
      " 0.33251372 0.33483263 0.33267364 0.34928584 0.35011545 0.35780183\n",
      " 0.35196458 0.35418353 0.34930583 0.33751137 0.35354383 0.34647716\n",
      " 0.35328396 0.34895599 0.35410357 0.34975561 0.35349386 0.36898658\n",
      " 0.36486851 0.36391896 0.36119024 0.36010075 0.35927114 0.36335922\n",
      " 0.35219447 0.34518776 0.34699691 0.34135956 0.34280888 0.346807\n",
      " 0.34967565 0.35496317 0.36576809 0.36327926 0.37567343 0.37867202\n",
      " 0.37540356 0.36779714 0.37324458 0.37060582 0.37194519 0.37576339\n",
      " 0.36991614 0.3716953  0.38137076 0.38053115 0.3776525  0.38172059\n",
      " 0.37376433 0.39722331 0.3895769  0.40275071 0.39996202 0.39223565\n",
      " 0.38859736 0.39155597 0.4053195  0.39947225 0.40270073 0.39761312\n",
      " 0.39400482 0.39202575 0.39365498 0.39458455 0.39519426 0.3968135\n",
      " 0.3900067  0.39097624 0.39491439 0.39924236 0.38852739 0.3887273\n",
      " 0.40072166 0.40057349 0.40468404 0.40796921]\n",
      "3 day output [[0.41123453]]\n",
      "4 day input [0.29635072 0.30128839 0.30802523 0.3025578  0.29686048 0.30326746\n",
      " 0.30011894 0.31333273 0.30963447 0.3057363  0.306376   0.30080862\n",
      " 0.29880956 0.30049877 0.30096854 0.30321749 0.31895009 0.31417234\n",
      " 0.31561166 0.31715094 0.31821044 0.31821044 0.32503723 0.33251372\n",
      " 0.33483263 0.33267364 0.34928584 0.35011545 0.35780183 0.35196458\n",
      " 0.35418353 0.34930583 0.33751137 0.35354383 0.34647716 0.35328396\n",
      " 0.34895599 0.35410357 0.34975561 0.35349386 0.36898658 0.36486851\n",
      " 0.36391896 0.36119024 0.36010075 0.35927114 0.36335922 0.35219447\n",
      " 0.34518776 0.34699691 0.34135956 0.34280888 0.346807   0.34967565\n",
      " 0.35496317 0.36576809 0.36327926 0.37567343 0.37867202 0.37540356\n",
      " 0.36779714 0.37324458 0.37060582 0.37194519 0.37576339 0.36991614\n",
      " 0.3716953  0.38137076 0.38053115 0.3776525  0.38172059 0.37376433\n",
      " 0.39722331 0.3895769  0.40275071 0.39996202 0.39223565 0.38859736\n",
      " 0.39155597 0.4053195  0.39947225 0.40270073 0.39761312 0.39400482\n",
      " 0.39202575 0.39365498 0.39458455 0.39519426 0.3968135  0.3900067\n",
      " 0.39097624 0.39491439 0.39924236 0.38852739 0.3887273  0.40072166\n",
      " 0.40057349 0.40468404 0.40796921 0.41123453]\n",
      "4 day output [[0.41453898]]\n",
      "5 day input [0.30128839 0.30802523 0.3025578  0.29686048 0.30326746 0.30011894\n",
      " 0.31333273 0.30963447 0.3057363  0.306376   0.30080862 0.29880956\n",
      " 0.30049877 0.30096854 0.30321749 0.31895009 0.31417234 0.31561166\n",
      " 0.31715094 0.31821044 0.31821044 0.32503723 0.33251372 0.33483263\n",
      " 0.33267364 0.34928584 0.35011545 0.35780183 0.35196458 0.35418353\n",
      " 0.34930583 0.33751137 0.35354383 0.34647716 0.35328396 0.34895599\n",
      " 0.35410357 0.34975561 0.35349386 0.36898658 0.36486851 0.36391896\n",
      " 0.36119024 0.36010075 0.35927114 0.36335922 0.35219447 0.34518776\n",
      " 0.34699691 0.34135956 0.34280888 0.346807   0.34967565 0.35496317\n",
      " 0.36576809 0.36327926 0.37567343 0.37867202 0.37540356 0.36779714\n",
      " 0.37324458 0.37060582 0.37194519 0.37576339 0.36991614 0.3716953\n",
      " 0.38137076 0.38053115 0.3776525  0.38172059 0.37376433 0.39722331\n",
      " 0.3895769  0.40275071 0.39996202 0.39223565 0.38859736 0.39155597\n",
      " 0.4053195  0.39947225 0.40270073 0.39761312 0.39400482 0.39202575\n",
      " 0.39365498 0.39458455 0.39519426 0.3968135  0.3900067  0.39097624\n",
      " 0.39491439 0.39924236 0.38852739 0.3887273  0.40072166 0.40057349\n",
      " 0.40468404 0.40796921 0.41123453 0.41453898]\n",
      "5 day output [[0.4178802]]\n",
      "6 day input [0.30802523 0.3025578  0.29686048 0.30326746 0.30011894 0.31333273\n",
      " 0.30963447 0.3057363  0.306376   0.30080862 0.29880956 0.30049877\n",
      " 0.30096854 0.30321749 0.31895009 0.31417234 0.31561166 0.31715094\n",
      " 0.31821044 0.31821044 0.32503723 0.33251372 0.33483263 0.33267364\n",
      " 0.34928584 0.35011545 0.35780183 0.35196458 0.35418353 0.34930583\n",
      " 0.33751137 0.35354383 0.34647716 0.35328396 0.34895599 0.35410357\n",
      " 0.34975561 0.35349386 0.36898658 0.36486851 0.36391896 0.36119024\n",
      " 0.36010075 0.35927114 0.36335922 0.35219447 0.34518776 0.34699691\n",
      " 0.34135956 0.34280888 0.346807   0.34967565 0.35496317 0.36576809\n",
      " 0.36327926 0.37567343 0.37867202 0.37540356 0.36779714 0.37324458\n",
      " 0.37060582 0.37194519 0.37576339 0.36991614 0.3716953  0.38137076\n",
      " 0.38053115 0.3776525  0.38172059 0.37376433 0.39722331 0.3895769\n",
      " 0.40275071 0.39996202 0.39223565 0.38859736 0.39155597 0.4053195\n",
      " 0.39947225 0.40270073 0.39761312 0.39400482 0.39202575 0.39365498\n",
      " 0.39458455 0.39519426 0.3968135  0.3900067  0.39097624 0.39491439\n",
      " 0.39924236 0.38852739 0.3887273  0.40072166 0.40057349 0.40468404\n",
      " 0.40796921 0.41123453 0.41453898 0.41788021]\n",
      "6 day output [[0.4212523]]\n",
      "7 day input [0.3025578  0.29686048 0.30326746 0.30011894 0.31333273 0.30963447\n",
      " 0.3057363  0.306376   0.30080862 0.29880956 0.30049877 0.30096854\n",
      " 0.30321749 0.31895009 0.31417234 0.31561166 0.31715094 0.31821044\n",
      " 0.31821044 0.32503723 0.33251372 0.33483263 0.33267364 0.34928584\n",
      " 0.35011545 0.35780183 0.35196458 0.35418353 0.34930583 0.33751137\n",
      " 0.35354383 0.34647716 0.35328396 0.34895599 0.35410357 0.34975561\n",
      " 0.35349386 0.36898658 0.36486851 0.36391896 0.36119024 0.36010075\n",
      " 0.35927114 0.36335922 0.35219447 0.34518776 0.34699691 0.34135956\n",
      " 0.34280888 0.346807   0.34967565 0.35496317 0.36576809 0.36327926\n",
      " 0.37567343 0.37867202 0.37540356 0.36779714 0.37324458 0.37060582\n",
      " 0.37194519 0.37576339 0.36991614 0.3716953  0.38137076 0.38053115\n",
      " 0.3776525  0.38172059 0.37376433 0.39722331 0.3895769  0.40275071\n",
      " 0.39996202 0.39223565 0.38859736 0.39155597 0.4053195  0.39947225\n",
      " 0.40270073 0.39761312 0.39400482 0.39202575 0.39365498 0.39458455\n",
      " 0.39519426 0.3968135  0.3900067  0.39097624 0.39491439 0.39924236\n",
      " 0.38852739 0.3887273  0.40072166 0.40057349 0.40468404 0.40796921\n",
      " 0.41123453 0.41453898 0.41788021 0.42125231]\n",
      "7 day output [[0.42464367]]\n",
      "8 day input [0.29686048 0.30326746 0.30011894 0.31333273 0.30963447 0.3057363\n",
      " 0.306376   0.30080862 0.29880956 0.30049877 0.30096854 0.30321749\n",
      " 0.31895009 0.31417234 0.31561166 0.31715094 0.31821044 0.31821044\n",
      " 0.32503723 0.33251372 0.33483263 0.33267364 0.34928584 0.35011545\n",
      " 0.35780183 0.35196458 0.35418353 0.34930583 0.33751137 0.35354383\n",
      " 0.34647716 0.35328396 0.34895599 0.35410357 0.34975561 0.35349386\n",
      " 0.36898658 0.36486851 0.36391896 0.36119024 0.36010075 0.35927114\n",
      " 0.36335922 0.35219447 0.34518776 0.34699691 0.34135956 0.34280888\n",
      " 0.346807   0.34967565 0.35496317 0.36576809 0.36327926 0.37567343\n",
      " 0.37867202 0.37540356 0.36779714 0.37324458 0.37060582 0.37194519\n",
      " 0.37576339 0.36991614 0.3716953  0.38137076 0.38053115 0.3776525\n",
      " 0.38172059 0.37376433 0.39722331 0.3895769  0.40275071 0.39996202\n",
      " 0.39223565 0.38859736 0.39155597 0.4053195  0.39947225 0.40270073\n",
      " 0.39761312 0.39400482 0.39202575 0.39365498 0.39458455 0.39519426\n",
      " 0.3968135  0.3900067  0.39097624 0.39491439 0.39924236 0.38852739\n",
      " 0.3887273  0.40072166 0.40057349 0.40468404 0.40796921 0.41123453\n",
      " 0.41453898 0.41788021 0.42125231 0.42464367]\n"
     ]
    },
    {
     "name": "stdout",
     "output_type": "stream",
     "text": [
      "8 day output [[0.42803976]]\n",
      "9 day input [0.30326746 0.30011894 0.31333273 0.30963447 0.3057363  0.306376\n",
      " 0.30080862 0.29880956 0.30049877 0.30096854 0.30321749 0.31895009\n",
      " 0.31417234 0.31561166 0.31715094 0.31821044 0.31821044 0.32503723\n",
      " 0.33251372 0.33483263 0.33267364 0.34928584 0.35011545 0.35780183\n",
      " 0.35196458 0.35418353 0.34930583 0.33751137 0.35354383 0.34647716\n",
      " 0.35328396 0.34895599 0.35410357 0.34975561 0.35349386 0.36898658\n",
      " 0.36486851 0.36391896 0.36119024 0.36010075 0.35927114 0.36335922\n",
      " 0.35219447 0.34518776 0.34699691 0.34135956 0.34280888 0.346807\n",
      " 0.34967565 0.35496317 0.36576809 0.36327926 0.37567343 0.37867202\n",
      " 0.37540356 0.36779714 0.37324458 0.37060582 0.37194519 0.37576339\n",
      " 0.36991614 0.3716953  0.38137076 0.38053115 0.3776525  0.38172059\n",
      " 0.37376433 0.39722331 0.3895769  0.40275071 0.39996202 0.39223565\n",
      " 0.38859736 0.39155597 0.4053195  0.39947225 0.40270073 0.39761312\n",
      " 0.39400482 0.39202575 0.39365498 0.39458455 0.39519426 0.3968135\n",
      " 0.3900067  0.39097624 0.39491439 0.39924236 0.38852739 0.3887273\n",
      " 0.40072166 0.40057349 0.40468404 0.40796921 0.41123453 0.41453898\n",
      " 0.41788021 0.42125231 0.42464367 0.42803976]\n",
      "9 day output [[0.43142638]]\n",
      "10 day input [0.30011894 0.31333273 0.30963447 0.3057363  0.306376   0.30080862\n",
      " 0.29880956 0.30049877 0.30096854 0.30321749 0.31895009 0.31417234\n",
      " 0.31561166 0.31715094 0.31821044 0.31821044 0.32503723 0.33251372\n",
      " 0.33483263 0.33267364 0.34928584 0.35011545 0.35780183 0.35196458\n",
      " 0.35418353 0.34930583 0.33751137 0.35354383 0.34647716 0.35328396\n",
      " 0.34895599 0.35410357 0.34975561 0.35349386 0.36898658 0.36486851\n",
      " 0.36391896 0.36119024 0.36010075 0.35927114 0.36335922 0.35219447\n",
      " 0.34518776 0.34699691 0.34135956 0.34280888 0.346807   0.34967565\n",
      " 0.35496317 0.36576809 0.36327926 0.37567343 0.37867202 0.37540356\n",
      " 0.36779714 0.37324458 0.37060582 0.37194519 0.37576339 0.36991614\n",
      " 0.3716953  0.38137076 0.38053115 0.3776525  0.38172059 0.37376433\n",
      " 0.39722331 0.3895769  0.40275071 0.39996202 0.39223565 0.38859736\n",
      " 0.39155597 0.4053195  0.39947225 0.40270073 0.39761312 0.39400482\n",
      " 0.39202575 0.39365498 0.39458455 0.39519426 0.3968135  0.3900067\n",
      " 0.39097624 0.39491439 0.39924236 0.38852739 0.3887273  0.40072166\n",
      " 0.40057349 0.40468404 0.40796921 0.41123453 0.41453898 0.41788021\n",
      " 0.42125231 0.42464367 0.42803976 0.43142638]\n",
      "10 day output [[0.43479112]]\n",
      "11 day input [0.31333273 0.30963447 0.3057363  0.306376   0.30080862 0.29880956\n",
      " 0.30049877 0.30096854 0.30321749 0.31895009 0.31417234 0.31561166\n",
      " 0.31715094 0.31821044 0.31821044 0.32503723 0.33251372 0.33483263\n",
      " 0.33267364 0.34928584 0.35011545 0.35780183 0.35196458 0.35418353\n",
      " 0.34930583 0.33751137 0.35354383 0.34647716 0.35328396 0.34895599\n",
      " 0.35410357 0.34975561 0.35349386 0.36898658 0.36486851 0.36391896\n",
      " 0.36119024 0.36010075 0.35927114 0.36335922 0.35219447 0.34518776\n",
      " 0.34699691 0.34135956 0.34280888 0.346807   0.34967565 0.35496317\n",
      " 0.36576809 0.36327926 0.37567343 0.37867202 0.37540356 0.36779714\n",
      " 0.37324458 0.37060582 0.37194519 0.37576339 0.36991614 0.3716953\n",
      " 0.38137076 0.38053115 0.3776525  0.38172059 0.37376433 0.39722331\n",
      " 0.3895769  0.40275071 0.39996202 0.39223565 0.38859736 0.39155597\n",
      " 0.4053195  0.39947225 0.40270073 0.39761312 0.39400482 0.39202575\n",
      " 0.39365498 0.39458455 0.39519426 0.3968135  0.3900067  0.39097624\n",
      " 0.39491439 0.39924236 0.38852739 0.3887273  0.40072166 0.40057349\n",
      " 0.40468404 0.40796921 0.41123453 0.41453898 0.41788021 0.42125231\n",
      " 0.42464367 0.42803976 0.43142638 0.43479112]\n",
      "11 day output [[0.4381252]]\n",
      "12 day input [0.30963447 0.3057363  0.306376   0.30080862 0.29880956 0.30049877\n",
      " 0.30096854 0.30321749 0.31895009 0.31417234 0.31561166 0.31715094\n",
      " 0.31821044 0.31821044 0.32503723 0.33251372 0.33483263 0.33267364\n",
      " 0.34928584 0.35011545 0.35780183 0.35196458 0.35418353 0.34930583\n",
      " 0.33751137 0.35354383 0.34647716 0.35328396 0.34895599 0.35410357\n",
      " 0.34975561 0.35349386 0.36898658 0.36486851 0.36391896 0.36119024\n",
      " 0.36010075 0.35927114 0.36335922 0.35219447 0.34518776 0.34699691\n",
      " 0.34135956 0.34280888 0.346807   0.34967565 0.35496317 0.36576809\n",
      " 0.36327926 0.37567343 0.37867202 0.37540356 0.36779714 0.37324458\n",
      " 0.37060582 0.37194519 0.37576339 0.36991614 0.3716953  0.38137076\n",
      " 0.38053115 0.3776525  0.38172059 0.37376433 0.39722331 0.3895769\n",
      " 0.40275071 0.39996202 0.39223565 0.38859736 0.39155597 0.4053195\n",
      " 0.39947225 0.40270073 0.39761312 0.39400482 0.39202575 0.39365498\n",
      " 0.39458455 0.39519426 0.3968135  0.3900067  0.39097624 0.39491439\n",
      " 0.39924236 0.38852739 0.3887273  0.40072166 0.40057349 0.40468404\n",
      " 0.40796921 0.41123453 0.41453898 0.41788021 0.42125231 0.42464367\n",
      " 0.42803976 0.43142638 0.43479112 0.43812519]\n",
      "12 day output [[0.44142324]]\n",
      "13 day input [0.3057363  0.306376   0.30080862 0.29880956 0.30049877 0.30096854\n",
      " 0.30321749 0.31895009 0.31417234 0.31561166 0.31715094 0.31821044\n",
      " 0.31821044 0.32503723 0.33251372 0.33483263 0.33267364 0.34928584\n",
      " 0.35011545 0.35780183 0.35196458 0.35418353 0.34930583 0.33751137\n",
      " 0.35354383 0.34647716 0.35328396 0.34895599 0.35410357 0.34975561\n",
      " 0.35349386 0.36898658 0.36486851 0.36391896 0.36119024 0.36010075\n",
      " 0.35927114 0.36335922 0.35219447 0.34518776 0.34699691 0.34135956\n",
      " 0.34280888 0.346807   0.34967565 0.35496317 0.36576809 0.36327926\n",
      " 0.37567343 0.37867202 0.37540356 0.36779714 0.37324458 0.37060582\n",
      " 0.37194519 0.37576339 0.36991614 0.3716953  0.38137076 0.38053115\n",
      " 0.3776525  0.38172059 0.37376433 0.39722331 0.3895769  0.40275071\n",
      " 0.39996202 0.39223565 0.38859736 0.39155597 0.4053195  0.39947225\n",
      " 0.40270073 0.39761312 0.39400482 0.39202575 0.39365498 0.39458455\n",
      " 0.39519426 0.3968135  0.3900067  0.39097624 0.39491439 0.39924236\n",
      " 0.38852739 0.3887273  0.40072166 0.40057349 0.40468404 0.40796921\n",
      " 0.41123453 0.41453898 0.41788021 0.42125231 0.42464367 0.42803976\n",
      " 0.43142638 0.43479112 0.43812519 0.44142324]\n",
      "13 day output [[0.44468293]]\n",
      "14 day input [0.306376   0.30080862 0.29880956 0.30049877 0.30096854 0.30321749\n",
      " 0.31895009 0.31417234 0.31561166 0.31715094 0.31821044 0.31821044\n",
      " 0.32503723 0.33251372 0.33483263 0.33267364 0.34928584 0.35011545\n",
      " 0.35780183 0.35196458 0.35418353 0.34930583 0.33751137 0.35354383\n",
      " 0.34647716 0.35328396 0.34895599 0.35410357 0.34975561 0.35349386\n",
      " 0.36898658 0.36486851 0.36391896 0.36119024 0.36010075 0.35927114\n",
      " 0.36335922 0.35219447 0.34518776 0.34699691 0.34135956 0.34280888\n",
      " 0.346807   0.34967565 0.35496317 0.36576809 0.36327926 0.37567343\n",
      " 0.37867202 0.37540356 0.36779714 0.37324458 0.37060582 0.37194519\n",
      " 0.37576339 0.36991614 0.3716953  0.38137076 0.38053115 0.3776525\n",
      " 0.38172059 0.37376433 0.39722331 0.3895769  0.40275071 0.39996202\n",
      " 0.39223565 0.38859736 0.39155597 0.4053195  0.39947225 0.40270073\n",
      " 0.39761312 0.39400482 0.39202575 0.39365498 0.39458455 0.39519426\n",
      " 0.3968135  0.3900067  0.39097624 0.39491439 0.39924236 0.38852739\n",
      " 0.3887273  0.40072166 0.40057349 0.40468404 0.40796921 0.41123453\n",
      " 0.41453898 0.41788021 0.42125231 0.42464367 0.42803976 0.43142638\n",
      " 0.43479112 0.43812519 0.44142324 0.44468293]\n",
      "14 day output [[0.4479044]]\n",
      "15 day input [0.30080862 0.29880956 0.30049877 0.30096854 0.30321749 0.31895009\n",
      " 0.31417234 0.31561166 0.31715094 0.31821044 0.31821044 0.32503723\n",
      " 0.33251372 0.33483263 0.33267364 0.34928584 0.35011545 0.35780183\n",
      " 0.35196458 0.35418353 0.34930583 0.33751137 0.35354383 0.34647716\n",
      " 0.35328396 0.34895599 0.35410357 0.34975561 0.35349386 0.36898658\n",
      " 0.36486851 0.36391896 0.36119024 0.36010075 0.35927114 0.36335922\n",
      " 0.35219447 0.34518776 0.34699691 0.34135956 0.34280888 0.346807\n",
      " 0.34967565 0.35496317 0.36576809 0.36327926 0.37567343 0.37867202\n",
      " 0.37540356 0.36779714 0.37324458 0.37060582 0.37194519 0.37576339\n",
      " 0.36991614 0.3716953  0.38137076 0.38053115 0.3776525  0.38172059\n",
      " 0.37376433 0.39722331 0.3895769  0.40275071 0.39996202 0.39223565\n",
      " 0.38859736 0.39155597 0.4053195  0.39947225 0.40270073 0.39761312\n",
      " 0.39400482 0.39202575 0.39365498 0.39458455 0.39519426 0.3968135\n",
      " 0.3900067  0.39097624 0.39491439 0.39924236 0.38852739 0.3887273\n",
      " 0.40072166 0.40057349 0.40468404 0.40796921 0.41123453 0.41453898\n",
      " 0.41788021 0.42125231 0.42464367 0.42803976 0.43142638 0.43479112\n",
      " 0.43812519 0.44142324 0.44468293 0.44790441]\n",
      "15 day output [[0.45109007]]\n",
      "16 day input [0.29880956 0.30049877 0.30096854 0.30321749 0.31895009 0.31417234\n",
      " 0.31561166 0.31715094 0.31821044 0.31821044 0.32503723 0.33251372\n",
      " 0.33483263 0.33267364 0.34928584 0.35011545 0.35780183 0.35196458\n",
      " 0.35418353 0.34930583 0.33751137 0.35354383 0.34647716 0.35328396\n",
      " 0.34895599 0.35410357 0.34975561 0.35349386 0.36898658 0.36486851\n",
      " 0.36391896 0.36119024 0.36010075 0.35927114 0.36335922 0.35219447\n",
      " 0.34518776 0.34699691 0.34135956 0.34280888 0.346807   0.34967565\n",
      " 0.35496317 0.36576809 0.36327926 0.37567343 0.37867202 0.37540356\n",
      " 0.36779714 0.37324458 0.37060582 0.37194519 0.37576339 0.36991614\n",
      " 0.3716953  0.38137076 0.38053115 0.3776525  0.38172059 0.37376433\n",
      " 0.39722331 0.3895769  0.40275071 0.39996202 0.39223565 0.38859736\n",
      " 0.39155597 0.4053195  0.39947225 0.40270073 0.39761312 0.39400482\n",
      " 0.39202575 0.39365498 0.39458455 0.39519426 0.3968135  0.3900067\n",
      " 0.39097624 0.39491439 0.39924236 0.38852739 0.3887273  0.40072166\n",
      " 0.40057349 0.40468404 0.40796921 0.41123453 0.41453898 0.41788021\n",
      " 0.42125231 0.42464367 0.42803976 0.43142638 0.43479112 0.43812519\n",
      " 0.44142324 0.44468293 0.44790441 0.45109007]\n"
     ]
    },
    {
     "name": "stdout",
     "output_type": "stream",
     "text": [
      "16 day output [[0.45424336]]\n",
      "17 day input [0.30049877 0.30096854 0.30321749 0.31895009 0.31417234 0.31561166\n",
      " 0.31715094 0.31821044 0.31821044 0.32503723 0.33251372 0.33483263\n",
      " 0.33267364 0.34928584 0.35011545 0.35780183 0.35196458 0.35418353\n",
      " 0.34930583 0.33751137 0.35354383 0.34647716 0.35328396 0.34895599\n",
      " 0.35410357 0.34975561 0.35349386 0.36898658 0.36486851 0.36391896\n",
      " 0.36119024 0.36010075 0.35927114 0.36335922 0.35219447 0.34518776\n",
      " 0.34699691 0.34135956 0.34280888 0.346807   0.34967565 0.35496317\n",
      " 0.36576809 0.36327926 0.37567343 0.37867202 0.37540356 0.36779714\n",
      " 0.37324458 0.37060582 0.37194519 0.37576339 0.36991614 0.3716953\n",
      " 0.38137076 0.38053115 0.3776525  0.38172059 0.37376433 0.39722331\n",
      " 0.3895769  0.40275071 0.39996202 0.39223565 0.38859736 0.39155597\n",
      " 0.4053195  0.39947225 0.40270073 0.39761312 0.39400482 0.39202575\n",
      " 0.39365498 0.39458455 0.39519426 0.3968135  0.3900067  0.39097624\n",
      " 0.39491439 0.39924236 0.38852739 0.3887273  0.40072166 0.40057349\n",
      " 0.40468404 0.40796921 0.41123453 0.41453898 0.41788021 0.42125231\n",
      " 0.42464367 0.42803976 0.43142638 0.43479112 0.43812519 0.44142324\n",
      " 0.44468293 0.44790441 0.45109007 0.45424336]\n",
      "17 day output [[0.45736873]]\n",
      "18 day input [0.30096854 0.30321749 0.31895009 0.31417234 0.31561166 0.31715094\n",
      " 0.31821044 0.31821044 0.32503723 0.33251372 0.33483263 0.33267364\n",
      " 0.34928584 0.35011545 0.35780183 0.35196458 0.35418353 0.34930583\n",
      " 0.33751137 0.35354383 0.34647716 0.35328396 0.34895599 0.35410357\n",
      " 0.34975561 0.35349386 0.36898658 0.36486851 0.36391896 0.36119024\n",
      " 0.36010075 0.35927114 0.36335922 0.35219447 0.34518776 0.34699691\n",
      " 0.34135956 0.34280888 0.346807   0.34967565 0.35496317 0.36576809\n",
      " 0.36327926 0.37567343 0.37867202 0.37540356 0.36779714 0.37324458\n",
      " 0.37060582 0.37194519 0.37576339 0.36991614 0.3716953  0.38137076\n",
      " 0.38053115 0.3776525  0.38172059 0.37376433 0.39722331 0.3895769\n",
      " 0.40275071 0.39996202 0.39223565 0.38859736 0.39155597 0.4053195\n",
      " 0.39947225 0.40270073 0.39761312 0.39400482 0.39202575 0.39365498\n",
      " 0.39458455 0.39519426 0.3968135  0.3900067  0.39097624 0.39491439\n",
      " 0.39924236 0.38852739 0.3887273  0.40072166 0.40057349 0.40468404\n",
      " 0.40796921 0.41123453 0.41453898 0.41788021 0.42125231 0.42464367\n",
      " 0.42803976 0.43142638 0.43479112 0.43812519 0.44142324 0.44468293\n",
      " 0.44790441 0.45109007 0.45424336 0.45736873]\n",
      "18 day output [[0.4604712]]\n",
      "19 day input [0.30321749 0.31895009 0.31417234 0.31561166 0.31715094 0.31821044\n",
      " 0.31821044 0.32503723 0.33251372 0.33483263 0.33267364 0.34928584\n",
      " 0.35011545 0.35780183 0.35196458 0.35418353 0.34930583 0.33751137\n",
      " 0.35354383 0.34647716 0.35328396 0.34895599 0.35410357 0.34975561\n",
      " 0.35349386 0.36898658 0.36486851 0.36391896 0.36119024 0.36010075\n",
      " 0.35927114 0.36335922 0.35219447 0.34518776 0.34699691 0.34135956\n",
      " 0.34280888 0.346807   0.34967565 0.35496317 0.36576809 0.36327926\n",
      " 0.37567343 0.37867202 0.37540356 0.36779714 0.37324458 0.37060582\n",
      " 0.37194519 0.37576339 0.36991614 0.3716953  0.38137076 0.38053115\n",
      " 0.3776525  0.38172059 0.37376433 0.39722331 0.3895769  0.40275071\n",
      " 0.39996202 0.39223565 0.38859736 0.39155597 0.4053195  0.39947225\n",
      " 0.40270073 0.39761312 0.39400482 0.39202575 0.39365498 0.39458455\n",
      " 0.39519426 0.3968135  0.3900067  0.39097624 0.39491439 0.39924236\n",
      " 0.38852739 0.3887273  0.40072166 0.40057349 0.40468404 0.40796921\n",
      " 0.41123453 0.41453898 0.41788021 0.42125231 0.42464367 0.42803976\n",
      " 0.43142638 0.43479112 0.43812519 0.44142324 0.44468293 0.44790441\n",
      " 0.45109007 0.45424336 0.45736873 0.46047121]\n",
      "19 day output [[0.46355602]]\n",
      "20 day input [0.31895009 0.31417234 0.31561166 0.31715094 0.31821044 0.31821044\n",
      " 0.32503723 0.33251372 0.33483263 0.33267364 0.34928584 0.35011545\n",
      " 0.35780183 0.35196458 0.35418353 0.34930583 0.33751137 0.35354383\n",
      " 0.34647716 0.35328396 0.34895599 0.35410357 0.34975561 0.35349386\n",
      " 0.36898658 0.36486851 0.36391896 0.36119024 0.36010075 0.35927114\n",
      " 0.36335922 0.35219447 0.34518776 0.34699691 0.34135956 0.34280888\n",
      " 0.346807   0.34967565 0.35496317 0.36576809 0.36327926 0.37567343\n",
      " 0.37867202 0.37540356 0.36779714 0.37324458 0.37060582 0.37194519\n",
      " 0.37576339 0.36991614 0.3716953  0.38137076 0.38053115 0.3776525\n",
      " 0.38172059 0.37376433 0.39722331 0.3895769  0.40275071 0.39996202\n",
      " 0.39223565 0.38859736 0.39155597 0.4053195  0.39947225 0.40270073\n",
      " 0.39761312 0.39400482 0.39202575 0.39365498 0.39458455 0.39519426\n",
      " 0.3968135  0.3900067  0.39097624 0.39491439 0.39924236 0.38852739\n",
      " 0.3887273  0.40072166 0.40057349 0.40468404 0.40796921 0.41123453\n",
      " 0.41453898 0.41788021 0.42125231 0.42464367 0.42803976 0.43142638\n",
      " 0.43479112 0.43812519 0.44142324 0.44468293 0.44790441 0.45109007\n",
      " 0.45424336 0.45736873 0.46047121 0.46355602]\n",
      "20 day output [[0.46662855]]\n",
      "21 day input [0.31417234 0.31561166 0.31715094 0.31821044 0.31821044 0.32503723\n",
      " 0.33251372 0.33483263 0.33267364 0.34928584 0.35011545 0.35780183\n",
      " 0.35196458 0.35418353 0.34930583 0.33751137 0.35354383 0.34647716\n",
      " 0.35328396 0.34895599 0.35410357 0.34975561 0.35349386 0.36898658\n",
      " 0.36486851 0.36391896 0.36119024 0.36010075 0.35927114 0.36335922\n",
      " 0.35219447 0.34518776 0.34699691 0.34135956 0.34280888 0.346807\n",
      " 0.34967565 0.35496317 0.36576809 0.36327926 0.37567343 0.37867202\n",
      " 0.37540356 0.36779714 0.37324458 0.37060582 0.37194519 0.37576339\n",
      " 0.36991614 0.3716953  0.38137076 0.38053115 0.3776525  0.38172059\n",
      " 0.37376433 0.39722331 0.3895769  0.40275071 0.39996202 0.39223565\n",
      " 0.38859736 0.39155597 0.4053195  0.39947225 0.40270073 0.39761312\n",
      " 0.39400482 0.39202575 0.39365498 0.39458455 0.39519426 0.3968135\n",
      " 0.3900067  0.39097624 0.39491439 0.39924236 0.38852739 0.3887273\n",
      " 0.40072166 0.40057349 0.40468404 0.40796921 0.41123453 0.41453898\n",
      " 0.41788021 0.42125231 0.42464367 0.42803976 0.43142638 0.43479112\n",
      " 0.43812519 0.44142324 0.44468293 0.44790441 0.45109007 0.45424336\n",
      " 0.45736873 0.46047121 0.46355602 0.46662855]\n",
      "21 day output [[0.4696936]]\n",
      "22 day input [0.31561166 0.31715094 0.31821044 0.31821044 0.32503723 0.33251372\n",
      " 0.33483263 0.33267364 0.34928584 0.35011545 0.35780183 0.35196458\n",
      " 0.35418353 0.34930583 0.33751137 0.35354383 0.34647716 0.35328396\n",
      " 0.34895599 0.35410357 0.34975561 0.35349386 0.36898658 0.36486851\n",
      " 0.36391896 0.36119024 0.36010075 0.35927114 0.36335922 0.35219447\n",
      " 0.34518776 0.34699691 0.34135956 0.34280888 0.346807   0.34967565\n",
      " 0.35496317 0.36576809 0.36327926 0.37567343 0.37867202 0.37540356\n",
      " 0.36779714 0.37324458 0.37060582 0.37194519 0.37576339 0.36991614\n",
      " 0.3716953  0.38137076 0.38053115 0.3776525  0.38172059 0.37376433\n",
      " 0.39722331 0.3895769  0.40275071 0.39996202 0.39223565 0.38859736\n",
      " 0.39155597 0.4053195  0.39947225 0.40270073 0.39761312 0.39400482\n",
      " 0.39202575 0.39365498 0.39458455 0.39519426 0.3968135  0.3900067\n",
      " 0.39097624 0.39491439 0.39924236 0.38852739 0.3887273  0.40072166\n",
      " 0.40057349 0.40468404 0.40796921 0.41123453 0.41453898 0.41788021\n",
      " 0.42125231 0.42464367 0.42803976 0.43142638 0.43479112 0.43812519\n",
      " 0.44142324 0.44468293 0.44790441 0.45109007 0.45424336 0.45736873\n",
      " 0.46047121 0.46355602 0.46662855 0.4696936 ]\n",
      "22 day output [[0.47275636]]\n",
      "23 day input [0.31715094 0.31821044 0.31821044 0.32503723 0.33251372 0.33483263\n",
      " 0.33267364 0.34928584 0.35011545 0.35780183 0.35196458 0.35418353\n",
      " 0.34930583 0.33751137 0.35354383 0.34647716 0.35328396 0.34895599\n",
      " 0.35410357 0.34975561 0.35349386 0.36898658 0.36486851 0.36391896\n",
      " 0.36119024 0.36010075 0.35927114 0.36335922 0.35219447 0.34518776\n",
      " 0.34699691 0.34135956 0.34280888 0.346807   0.34967565 0.35496317\n",
      " 0.36576809 0.36327926 0.37567343 0.37867202 0.37540356 0.36779714\n",
      " 0.37324458 0.37060582 0.37194519 0.37576339 0.36991614 0.3716953\n",
      " 0.38137076 0.38053115 0.3776525  0.38172059 0.37376433 0.39722331\n",
      " 0.3895769  0.40275071 0.39996202 0.39223565 0.38859736 0.39155597\n",
      " 0.4053195  0.39947225 0.40270073 0.39761312 0.39400482 0.39202575\n",
      " 0.39365498 0.39458455 0.39519426 0.3968135  0.3900067  0.39097624\n",
      " 0.39491439 0.39924236 0.38852739 0.3887273  0.40072166 0.40057349\n",
      " 0.40468404 0.40796921 0.41123453 0.41453898 0.41788021 0.42125231\n",
      " 0.42464367 0.42803976 0.43142638 0.43479112 0.43812519 0.44142324\n",
      " 0.44468293 0.44790441 0.45109007 0.45424336 0.45736873 0.46047121\n",
      " 0.46355602 0.46662855 0.4696936  0.47275636]\n",
      "23 day output [[0.47582123]]\n",
      "24 day input [0.31821044 0.31821044 0.32503723 0.33251372 0.33483263 0.33267364\n",
      " 0.34928584 0.35011545 0.35780183 0.35196458 0.35418353 0.34930583\n",
      " 0.33751137 0.35354383 0.34647716 0.35328396 0.34895599 0.35410357\n",
      " 0.34975561 0.35349386 0.36898658 0.36486851 0.36391896 0.36119024\n",
      " 0.36010075 0.35927114 0.36335922 0.35219447 0.34518776 0.34699691\n",
      " 0.34135956 0.34280888 0.346807   0.34967565 0.35496317 0.36576809\n",
      " 0.36327926 0.37567343 0.37867202 0.37540356 0.36779714 0.37324458\n",
      " 0.37060582 0.37194519 0.37576339 0.36991614 0.3716953  0.38137076\n",
      " 0.38053115 0.3776525  0.38172059 0.37376433 0.39722331 0.3895769\n",
      " 0.40275071 0.39996202 0.39223565 0.38859736 0.39155597 0.4053195\n",
      " 0.39947225 0.40270073 0.39761312 0.39400482 0.39202575 0.39365498\n",
      " 0.39458455 0.39519426 0.3968135  0.3900067  0.39097624 0.39491439\n",
      " 0.39924236 0.38852739 0.3887273  0.40072166 0.40057349 0.40468404\n",
      " 0.40796921 0.41123453 0.41453898 0.41788021 0.42125231 0.42464367\n",
      " 0.42803976 0.43142638 0.43479112 0.43812519 0.44142324 0.44468293\n",
      " 0.44790441 0.45109007 0.45424336 0.45736873 0.46047121 0.46355602\n",
      " 0.46662855 0.4696936  0.47275636 0.47582123]\n",
      "24 day output [[0.47889236]]\n",
      "25 day input [0.31821044 0.32503723 0.33251372 0.33483263 0.33267364 0.34928584\n",
      " 0.35011545 0.35780183 0.35196458 0.35418353 0.34930583 0.33751137\n",
      " 0.35354383 0.34647716 0.35328396 0.34895599 0.35410357 0.34975561\n",
      " 0.35349386 0.36898658 0.36486851 0.36391896 0.36119024 0.36010075\n",
      " 0.35927114 0.36335922 0.35219447 0.34518776 0.34699691 0.34135956\n",
      " 0.34280888 0.346807   0.34967565 0.35496317 0.36576809 0.36327926\n",
      " 0.37567343 0.37867202 0.37540356 0.36779714 0.37324458 0.37060582\n",
      " 0.37194519 0.37576339 0.36991614 0.3716953  0.38137076 0.38053115\n",
      " 0.3776525  0.38172059 0.37376433 0.39722331 0.3895769  0.40275071\n",
      " 0.39996202 0.39223565 0.38859736 0.39155597 0.4053195  0.39947225\n",
      " 0.40270073 0.39761312 0.39400482 0.39202575 0.39365498 0.39458455\n",
      " 0.39519426 0.3968135  0.3900067  0.39097624 0.39491439 0.39924236\n",
      " 0.38852739 0.3887273  0.40072166 0.40057349 0.40468404 0.40796921\n",
      " 0.41123453 0.41453898 0.41788021 0.42125231 0.42464367 0.42803976\n",
      " 0.43142638 0.43479112 0.43812519 0.44142324 0.44468293 0.44790441\n",
      " 0.45109007 0.45424336 0.45736873 0.46047121 0.46355602 0.46662855\n",
      " 0.4696936  0.47275636 0.47582123 0.47889236]\n"
     ]
    },
    {
     "name": "stdout",
     "output_type": "stream",
     "text": [
      "25 day output [[0.48197353]]\n",
      "26 day input [0.32503723 0.33251372 0.33483263 0.33267364 0.34928584 0.35011545\n",
      " 0.35780183 0.35196458 0.35418353 0.34930583 0.33751137 0.35354383\n",
      " 0.34647716 0.35328396 0.34895599 0.35410357 0.34975561 0.35349386\n",
      " 0.36898658 0.36486851 0.36391896 0.36119024 0.36010075 0.35927114\n",
      " 0.36335922 0.35219447 0.34518776 0.34699691 0.34135956 0.34280888\n",
      " 0.346807   0.34967565 0.35496317 0.36576809 0.36327926 0.37567343\n",
      " 0.37867202 0.37540356 0.36779714 0.37324458 0.37060582 0.37194519\n",
      " 0.37576339 0.36991614 0.3716953  0.38137076 0.38053115 0.3776525\n",
      " 0.38172059 0.37376433 0.39722331 0.3895769  0.40275071 0.39996202\n",
      " 0.39223565 0.38859736 0.39155597 0.4053195  0.39947225 0.40270073\n",
      " 0.39761312 0.39400482 0.39202575 0.39365498 0.39458455 0.39519426\n",
      " 0.3968135  0.3900067  0.39097624 0.39491439 0.39924236 0.38852739\n",
      " 0.3887273  0.40072166 0.40057349 0.40468404 0.40796921 0.41123453\n",
      " 0.41453898 0.41788021 0.42125231 0.42464367 0.42803976 0.43142638\n",
      " 0.43479112 0.43812519 0.44142324 0.44468293 0.44790441 0.45109007\n",
      " 0.45424336 0.45736873 0.46047121 0.46355602 0.46662855 0.4696936\n",
      " 0.47275636 0.47582123 0.47889236 0.48197353]\n",
      "26 day output [[0.48506796]]\n",
      "27 day input [0.33251372 0.33483263 0.33267364 0.34928584 0.35011545 0.35780183\n",
      " 0.35196458 0.35418353 0.34930583 0.33751137 0.35354383 0.34647716\n",
      " 0.35328396 0.34895599 0.35410357 0.34975561 0.35349386 0.36898658\n",
      " 0.36486851 0.36391896 0.36119024 0.36010075 0.35927114 0.36335922\n",
      " 0.35219447 0.34518776 0.34699691 0.34135956 0.34280888 0.346807\n",
      " 0.34967565 0.35496317 0.36576809 0.36327926 0.37567343 0.37867202\n",
      " 0.37540356 0.36779714 0.37324458 0.37060582 0.37194519 0.37576339\n",
      " 0.36991614 0.3716953  0.38137076 0.38053115 0.3776525  0.38172059\n",
      " 0.37376433 0.39722331 0.3895769  0.40275071 0.39996202 0.39223565\n",
      " 0.38859736 0.39155597 0.4053195  0.39947225 0.40270073 0.39761312\n",
      " 0.39400482 0.39202575 0.39365498 0.39458455 0.39519426 0.3968135\n",
      " 0.3900067  0.39097624 0.39491439 0.39924236 0.38852739 0.3887273\n",
      " 0.40072166 0.40057349 0.40468404 0.40796921 0.41123453 0.41453898\n",
      " 0.41788021 0.42125231 0.42464367 0.42803976 0.43142638 0.43479112\n",
      " 0.43812519 0.44142324 0.44468293 0.44790441 0.45109007 0.45424336\n",
      " 0.45736873 0.46047121 0.46355602 0.46662855 0.4696936  0.47275636\n",
      " 0.47582123 0.47889236 0.48197353 0.48506796]\n",
      "27 day output [[0.48817855]]\n",
      "28 day input [0.33483263 0.33267364 0.34928584 0.35011545 0.35780183 0.35196458\n",
      " 0.35418353 0.34930583 0.33751137 0.35354383 0.34647716 0.35328396\n",
      " 0.34895599 0.35410357 0.34975561 0.35349386 0.36898658 0.36486851\n",
      " 0.36391896 0.36119024 0.36010075 0.35927114 0.36335922 0.35219447\n",
      " 0.34518776 0.34699691 0.34135956 0.34280888 0.346807   0.34967565\n",
      " 0.35496317 0.36576809 0.36327926 0.37567343 0.37867202 0.37540356\n",
      " 0.36779714 0.37324458 0.37060582 0.37194519 0.37576339 0.36991614\n",
      " 0.3716953  0.38137076 0.38053115 0.3776525  0.38172059 0.37376433\n",
      " 0.39722331 0.3895769  0.40275071 0.39996202 0.39223565 0.38859736\n",
      " 0.39155597 0.4053195  0.39947225 0.40270073 0.39761312 0.39400482\n",
      " 0.39202575 0.39365498 0.39458455 0.39519426 0.3968135  0.3900067\n",
      " 0.39097624 0.39491439 0.39924236 0.38852739 0.3887273  0.40072166\n",
      " 0.40057349 0.40468404 0.40796921 0.41123453 0.41453898 0.41788021\n",
      " 0.42125231 0.42464367 0.42803976 0.43142638 0.43479112 0.43812519\n",
      " 0.44142324 0.44468293 0.44790441 0.45109007 0.45424336 0.45736873\n",
      " 0.46047121 0.46355602 0.46662855 0.4696936  0.47275636 0.47582123\n",
      " 0.47889236 0.48197353 0.48506796 0.48817855]\n",
      "28 day output [[0.49130735]]\n",
      "29 day input [0.33267364 0.34928584 0.35011545 0.35780183 0.35196458 0.35418353\n",
      " 0.34930583 0.33751137 0.35354383 0.34647716 0.35328396 0.34895599\n",
      " 0.35410357 0.34975561 0.35349386 0.36898658 0.36486851 0.36391896\n",
      " 0.36119024 0.36010075 0.35927114 0.36335922 0.35219447 0.34518776\n",
      " 0.34699691 0.34135956 0.34280888 0.346807   0.34967565 0.35496317\n",
      " 0.36576809 0.36327926 0.37567343 0.37867202 0.37540356 0.36779714\n",
      " 0.37324458 0.37060582 0.37194519 0.37576339 0.36991614 0.3716953\n",
      " 0.38137076 0.38053115 0.3776525  0.38172059 0.37376433 0.39722331\n",
      " 0.3895769  0.40275071 0.39996202 0.39223565 0.38859736 0.39155597\n",
      " 0.4053195  0.39947225 0.40270073 0.39761312 0.39400482 0.39202575\n",
      " 0.39365498 0.39458455 0.39519426 0.3968135  0.3900067  0.39097624\n",
      " 0.39491439 0.39924236 0.38852739 0.3887273  0.40072166 0.40057349\n",
      " 0.40468404 0.40796921 0.41123453 0.41453898 0.41788021 0.42125231\n",
      " 0.42464367 0.42803976 0.43142638 0.43479112 0.43812519 0.44142324\n",
      " 0.44468293 0.44790441 0.45109007 0.45424336 0.45736873 0.46047121\n",
      " 0.46355602 0.46662855 0.4696936  0.47275636 0.47582123 0.47889236\n",
      " 0.48197353 0.48506796 0.48817855 0.49130735]\n",
      "29 day output [[0.49445647]]\n",
      "[[0.4005734920501709], [0.40468403697013855], [0.407969206571579], [0.4112345278263092], [0.4145389795303345], [0.41788020730018616], [0.4212523102760315], [0.4246436655521393], [0.4280397593975067], [0.43142637610435486], [0.43479111790657043], [0.4381251931190491], [0.441423237323761], [0.44468292593955994], [0.44790440797805786], [0.4510900676250458], [0.45424336194992065], [0.45736873149871826], [0.4604712128639221], [0.4635560214519501], [0.4666285514831543], [0.4696936011314392], [0.47275635600090027], [0.47582122683525085], [0.47889235615730286], [0.4819735288619995], [0.4850679636001587], [0.488178551197052], [0.4913073480129242], [0.4944564700126648]]\n"
     ]
    }
   ],
   "source": [
    "from numpy import array\n",
    "lst_output=[]\n",
    "n_steps=100\n",
    "i=0\n",
    "while(i<30):\n",
    "    \n",
    "    if(len(temp_input)>100):\n",
    "        x_input=np.array(temp_input[1:])\n",
    "        print(\"{} day input {}\".format(i,x_input))\n",
    "        x_input=x_input.reshape(1,-1)\n",
    "        x_input=x_input.reshape((1,n_steps,1))\n",
    "        yhat=model.predict(x_input,verbose=0)\n",
    "        print(\"{} day output {}\".format (i,yhat))\n",
    "        temp_input.extend(yhat[0].tolist())\n",
    "        temp_input=temp_input[1:]\n",
    "        lst_output.extend(yhat.tolist())\n",
    "        i=i+1\n",
    "        \n",
    "    else:\n",
    "        x_input=x_input.reshape((1,n_steps,1))\n",
    "        yhat=model.predict(x_input,verbose=0)\n",
    "        print(yhat[0])\n",
    "        temp_input.extend(yhat[0].tolist())\n",
    "        print(len(temp_input))\n",
    "        lst_output.extend(yhat.tolist())\n",
    "        i=i+1\n",
    "        \n",
    "print(lst_output)"
   ]
  },
  {
   "cell_type": "code",
   "execution_count": 32,
   "metadata": {},
   "outputs": [],
   "source": [
    "day_new=np.arange(1,101)\n",
    "day_pred=np.arange(101,131)"
   ]
  },
  {
   "cell_type": "code",
   "execution_count": 33,
   "metadata": {},
   "outputs": [
    {
     "data": {
      "text/plain": [
       "5204"
      ]
     },
     "execution_count": 33,
     "metadata": {},
     "output_type": "execute_result"
    }
   ],
   "source": [
    "len(df1)"
   ]
  },
  {
   "cell_type": "code",
   "execution_count": 34,
   "metadata": {},
   "outputs": [
    {
     "data": {
      "text/plain": [
       "[<matplotlib.lines.Line2D at 0x21587920b08>]"
      ]
     },
     "execution_count": 34,
     "metadata": {},
     "output_type": "execute_result"
    },
    {
     "data": {
      "image/png": "[encoded data removed]",
      "text/plain": [
       "<Figure size 432x288 with 1 Axes>"
      ]
     },
     "metadata": {
      "needs_background": "light"
     },
     "output_type": "display_data"
    }
   ],
   "source": [
    "plt.plot(day_new,scaler.inverse_transform(df1[5104:]))\n",
    "plt.plot(day_pred,scaler.inverse_transform(lst_output))"
   ]
  },
  {
   "cell_type": "code",
   "execution_count": 35,
   "metadata": {},
   "outputs": [
    {
     "data": {
      "text/plain": [
       "[<matplotlib.lines.Line2D at 0x21587d26f48>]"
      ]
     },
     "execution_count": 35,
     "metadata": {},
     "output_type": "execute_result"
    },
    {
     "data": {
      "image/png": "[encoded data removed]",
      "text/plain": [
       "<Figure size 432x288 with 1 Axes>"
      ]
     },
     "metadata": {
      "needs_background": "light"
     },
     "output_type": "display_data"
    }
   ],
   "source": [
    "df3=df1.tolist()\n",
    "df3.extend(lst_output)\n",
    "plt.plot(df3[5104:])"
   ]
  },
  {
   "cell_type": "code",
   "execution_count": 36,
   "metadata": {},
   "outputs": [],
   "source": [
    "df3=scaler.inverse_transform(df3).tolist()"
   ]
  },
  {
   "cell_type": "code",
   "execution_count": 37,
   "metadata": {},
   "outputs": [
    {
     "data": {
      "text/plain": [
       "[<matplotlib.lines.Line2D at 0x21587bddd88>]"
      ]
     },
     "execution_count": 37,
     "metadata": {},
     "output_type": "execute_result"
    },
    {
     "data": {
      "image/png": "[encoded data removed]",
      "text/plain": [
       "<Figure size 432x288 with 1 Axes>"
      ]
     },
     "metadata": {
      "needs_background": "light"
     },
     "output_type": "display_data"
    }
   ],
   "source": [
    "plt.plot(df3)"
   ]
  },
  {
   "cell_type": "code",
   "execution_count": null,
   "metadata": {},
   "outputs": [],
   "source": []
  }
 ],
 "metadata": {
  "kernelspec": {
   "display_name": "Python 3",
   "language": "python",
   "name": "python3"
  },
  "language_info": {
   "codemirror_mode": {
    "name": "ipython",
    "version": 3
   },
   "file_extension": ".py",
   "mimetype": "text/x-python",
   "name": "python",
   "nbconvert_exporter": "python",
   "pygments_lexer": "ipython3",
   "version": "3.7.6"
  }
 },
 "nbformat": 4,
 "nbformat_minor": 4
}
